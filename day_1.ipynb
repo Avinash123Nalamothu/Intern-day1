{
 "cells": [
  {
   "cell_type": "code",
   "execution_count": 1,
   "id": "71350eba-f424-4a81-84f4-e7a44c062082",
   "metadata": {},
   "outputs": [],
   "source": [
    "import kagglehub"
   ]
  },
  {
   "cell_type": "code",
   "execution_count": 2,
   "id": "d0f6a12b-600f-4bd6-9439-23cc289e02e3",
   "metadata": {},
   "outputs": [],
   "source": [
    "import numpy as np\n",
    "import pandas as pd\n"
   ]
  },
  {
   "cell_type": "code",
   "execution_count": 3,
   "id": "f3b45bd4-21b8-48bc-8195-2e6acf68a9b5",
   "metadata": {},
   "outputs": [
    {
     "name": "stdout",
     "output_type": "stream",
     "text": [
      "Path to dataset files: C:\\Users\\Avinash\\.cache\\kagglehub\\datasets\\zubairmustafa\\shopping-mall-customer-segmentation-data\\versions\\1\n"
     ]
    }
   ],
   "source": [
    "path = kagglehub.dataset_download(\"zubairmustafa/shopping-mall-customer-segmentation-data\")\n",
    "print(\"Path to dataset files:\", path)"
   ]
  },
  {
   "cell_type": "code",
   "execution_count": 4,
   "id": "207755dc-babd-4158-9995-63fea8d33212",
   "metadata": {},
   "outputs": [],
   "source": [
    "df=pd.read_csv(r\"C:\\Users\\Avinash\\.cache\\kagglehub\\datasets\\zubairmustafa\\shopping-mall-customer-segmentation-data\\versions\\1\\Shopping Mall Customer Segmentation Data .csv\")"
   ]
  },
  {
   "cell_type": "code",
   "execution_count": 5,
   "id": "cbae2e4d-0867-45d4-b05b-a2b3e6d09a01",
   "metadata": {},
   "outputs": [
    {
     "data": {
      "text/plain": [
       "(15079, 5)"
      ]
     },
     "execution_count": 5,
     "metadata": {},
     "output_type": "execute_result"
    }
   ],
   "source": [
    "df.shape"
   ]
  },
  {
   "cell_type": "code",
   "execution_count": 6,
   "id": "cc9a5080-078b-457b-b228-c59fa7760c2f",
   "metadata": {},
   "outputs": [
    {
     "name": "stdout",
     "output_type": "stream",
     "text": [
      "<class 'pandas.core.frame.DataFrame'>\n",
      "RangeIndex: 15079 entries, 0 to 15078\n",
      "Data columns (total 5 columns):\n",
      " #   Column          Non-Null Count  Dtype \n",
      "---  ------          --------------  ----- \n",
      " 0   Customer ID     15079 non-null  object\n",
      " 1   Age             15079 non-null  int64 \n",
      " 2   Gender          15079 non-null  object\n",
      " 3   Annual Income   15079 non-null  int64 \n",
      " 4   Spending Score  15079 non-null  int64 \n",
      "dtypes: int64(3), object(2)\n",
      "memory usage: 589.2+ KB\n"
     ]
    }
   ],
   "source": [
    "df.info()"
   ]
  },
  {
   "cell_type": "code",
   "execution_count": 7,
   "id": "17f44fad-9f45-426a-8e7c-adec2fa8c084",
   "metadata": {},
   "outputs": [
    {
     "data": {
      "text/plain": [
       "Customer ID       0\n",
       "Age               0\n",
       "Gender            0\n",
       "Annual Income     0\n",
       "Spending Score    0\n",
       "dtype: int64"
      ]
     },
     "execution_count": 7,
     "metadata": {},
     "output_type": "execute_result"
    }
   ],
   "source": [
    "df.isna().sum()"
   ]
  },
  {
   "cell_type": "code",
   "execution_count": 8,
   "id": "65861751-7180-4a5a-950b-ffdb825ed17f",
   "metadata": {},
   "outputs": [
    {
     "data": {
      "text/html": [
       "<div>\n",
       "<style scoped>\n",
       "    .dataframe tbody tr th:only-of-type {\n",
       "        vertical-align: middle;\n",
       "    }\n",
       "\n",
       "    .dataframe tbody tr th {\n",
       "        vertical-align: top;\n",
       "    }\n",
       "\n",
       "    .dataframe thead th {\n",
       "        text-align: right;\n",
       "    }\n",
       "</style>\n",
       "<table border=\"1\" class=\"dataframe\">\n",
       "  <thead>\n",
       "    <tr style=\"text-align: right;\">\n",
       "      <th></th>\n",
       "      <th>Customer ID</th>\n",
       "      <th>Age</th>\n",
       "      <th>Gender</th>\n",
       "      <th>Annual Income</th>\n",
       "      <th>Spending Score</th>\n",
       "    </tr>\n",
       "  </thead>\n",
       "  <tbody>\n",
       "    <tr>\n",
       "      <th>0</th>\n",
       "      <td>d410ea53-6661-42a9-ad3a-f554b05fd2a7</td>\n",
       "      <td>30</td>\n",
       "      <td>Male</td>\n",
       "      <td>151479</td>\n",
       "      <td>89</td>\n",
       "    </tr>\n",
       "    <tr>\n",
       "      <th>1</th>\n",
       "      <td>1770b26f-493f-46b6-837f-4237fb5a314e</td>\n",
       "      <td>58</td>\n",
       "      <td>Female</td>\n",
       "      <td>185088</td>\n",
       "      <td>95</td>\n",
       "    </tr>\n",
       "    <tr>\n",
       "      <th>2</th>\n",
       "      <td>e81aa8eb-1767-4b77-87ce-1620dc732c5e</td>\n",
       "      <td>62</td>\n",
       "      <td>Female</td>\n",
       "      <td>70912</td>\n",
       "      <td>76</td>\n",
       "    </tr>\n",
       "    <tr>\n",
       "      <th>3</th>\n",
       "      <td>9795712a-ad19-47bf-8886-4f997d6046e3</td>\n",
       "      <td>23</td>\n",
       "      <td>Male</td>\n",
       "      <td>55460</td>\n",
       "      <td>57</td>\n",
       "    </tr>\n",
       "    <tr>\n",
       "      <th>4</th>\n",
       "      <td>64139426-2226-4cd6-bf09-91bce4b4db5e</td>\n",
       "      <td>24</td>\n",
       "      <td>Male</td>\n",
       "      <td>153752</td>\n",
       "      <td>76</td>\n",
       "    </tr>\n",
       "  </tbody>\n",
       "</table>\n",
       "</div>"
      ],
      "text/plain": [
       "                            Customer ID  Age  Gender  Annual Income  \\\n",
       "0  d410ea53-6661-42a9-ad3a-f554b05fd2a7   30    Male         151479   \n",
       "1  1770b26f-493f-46b6-837f-4237fb5a314e   58  Female         185088   \n",
       "2  e81aa8eb-1767-4b77-87ce-1620dc732c5e   62  Female          70912   \n",
       "3  9795712a-ad19-47bf-8886-4f997d6046e3   23    Male          55460   \n",
       "4  64139426-2226-4cd6-bf09-91bce4b4db5e   24    Male         153752   \n",
       "\n",
       "   Spending Score  \n",
       "0              89  \n",
       "1              95  \n",
       "2              76  \n",
       "3              57  \n",
       "4              76  "
      ]
     },
     "execution_count": 8,
     "metadata": {},
     "output_type": "execute_result"
    }
   ],
   "source": [
    "df.head()"
   ]
  },
  {
   "cell_type": "code",
   "execution_count": 9,
   "id": "d7262df7-3772-4f92-a105-e66bd1154a4a",
   "metadata": {},
   "outputs": [
    {
     "data": {
      "text/plain": [
       "Customer ID       object\n",
       "Age                int64\n",
       "Gender            object\n",
       "Annual Income      int64\n",
       "Spending Score     int64\n",
       "dtype: object"
      ]
     },
     "execution_count": 9,
     "metadata": {},
     "output_type": "execute_result"
    }
   ],
   "source": [
    "df.dtypes"
   ]
  },
  {
   "cell_type": "code",
   "execution_count": 10,
   "id": "81f185ff-1159-4e71-b878-9ff09c702892",
   "metadata": {},
   "outputs": [],
   "source": [
    "df.rename(columns={\"Customer ID\":\"Customer_id\",\"Age\":\"Age\",\"Gender\":\"Gender\",\"Annual Income\":\"Annual_Income\",\"Spending Score\":\"Spending_Score\"},inplace=True)"
   ]
  },
  {
   "cell_type": "code",
   "execution_count": 11,
   "id": "053f1c97-5073-43fb-ac46-3c2732e95614",
   "metadata": {},
   "outputs": [
    {
     "data": {
      "text/plain": [
       "Index(['Customer_id', 'Age', 'Gender', 'Annual_Income', 'Spending_Score'], dtype='object')"
      ]
     },
     "execution_count": 11,
     "metadata": {},
     "output_type": "execute_result"
    }
   ],
   "source": [
    "df.columns"
   ]
  },
  {
   "cell_type": "code",
   "execution_count": 12,
   "id": "61fa3fb4-be07-4245-880b-a4ef7d3faf96",
   "metadata": {},
   "outputs": [],
   "source": [
    "df=df.drop_duplicates()"
   ]
  },
  {
   "cell_type": "code",
   "execution_count": 13,
   "id": "bb366053-3968-4077-8020-558bae69c72d",
   "metadata": {},
   "outputs": [
    {
     "data": {
      "text/plain": [
       "(15079, 5)"
      ]
     },
     "execution_count": 13,
     "metadata": {},
     "output_type": "execute_result"
    }
   ],
   "source": [
    "df.shape"
   ]
  },
  {
   "cell_type": "code",
   "execution_count": 14,
   "id": "b6236b04-0629-4317-8440-2f3da00c4621",
   "metadata": {},
   "outputs": [],
   "source": [
    "# here i am just changing the value of male and female for male i will asssign \"1\" for female i will assign \"0\""
   ]
  },
  {
   "cell_type": "code",
   "execution_count": 15,
   "id": "2fbe8c5a-4743-4ccc-ac6a-c6fb462724ca",
   "metadata": {},
   "outputs": [],
   "source": [
    "df[\"Gender\"]=df.Gender.map({\"Male\":1,\"Female\":0})\n"
   ]
  },
  {
   "cell_type": "code",
   "execution_count": 16,
   "id": "0fee9b2d-559e-4a58-a0a0-0874218600c1",
   "metadata": {},
   "outputs": [
    {
     "data": {
      "text/html": [
       "<div>\n",
       "<style scoped>\n",
       "    .dataframe tbody tr th:only-of-type {\n",
       "        vertical-align: middle;\n",
       "    }\n",
       "\n",
       "    .dataframe tbody tr th {\n",
       "        vertical-align: top;\n",
       "    }\n",
       "\n",
       "    .dataframe thead th {\n",
       "        text-align: right;\n",
       "    }\n",
       "</style>\n",
       "<table border=\"1\" class=\"dataframe\">\n",
       "  <thead>\n",
       "    <tr style=\"text-align: right;\">\n",
       "      <th></th>\n",
       "      <th>Customer_id</th>\n",
       "      <th>Age</th>\n",
       "      <th>Gender</th>\n",
       "      <th>Annual_Income</th>\n",
       "      <th>Spending_Score</th>\n",
       "    </tr>\n",
       "  </thead>\n",
       "  <tbody>\n",
       "    <tr>\n",
       "      <th>0</th>\n",
       "      <td>d410ea53-6661-42a9-ad3a-f554b05fd2a7</td>\n",
       "      <td>30</td>\n",
       "      <td>1</td>\n",
       "      <td>151479</td>\n",
       "      <td>89</td>\n",
       "    </tr>\n",
       "    <tr>\n",
       "      <th>1</th>\n",
       "      <td>1770b26f-493f-46b6-837f-4237fb5a314e</td>\n",
       "      <td>58</td>\n",
       "      <td>0</td>\n",
       "      <td>185088</td>\n",
       "      <td>95</td>\n",
       "    </tr>\n",
       "    <tr>\n",
       "      <th>2</th>\n",
       "      <td>e81aa8eb-1767-4b77-87ce-1620dc732c5e</td>\n",
       "      <td>62</td>\n",
       "      <td>0</td>\n",
       "      <td>70912</td>\n",
       "      <td>76</td>\n",
       "    </tr>\n",
       "    <tr>\n",
       "      <th>3</th>\n",
       "      <td>9795712a-ad19-47bf-8886-4f997d6046e3</td>\n",
       "      <td>23</td>\n",
       "      <td>1</td>\n",
       "      <td>55460</td>\n",
       "      <td>57</td>\n",
       "    </tr>\n",
       "    <tr>\n",
       "      <th>4</th>\n",
       "      <td>64139426-2226-4cd6-bf09-91bce4b4db5e</td>\n",
       "      <td>24</td>\n",
       "      <td>1</td>\n",
       "      <td>153752</td>\n",
       "      <td>76</td>\n",
       "    </tr>\n",
       "  </tbody>\n",
       "</table>\n",
       "</div>"
      ],
      "text/plain": [
       "                            Customer_id  Age  Gender  Annual_Income  \\\n",
       "0  d410ea53-6661-42a9-ad3a-f554b05fd2a7   30       1         151479   \n",
       "1  1770b26f-493f-46b6-837f-4237fb5a314e   58       0         185088   \n",
       "2  e81aa8eb-1767-4b77-87ce-1620dc732c5e   62       0          70912   \n",
       "3  9795712a-ad19-47bf-8886-4f997d6046e3   23       1          55460   \n",
       "4  64139426-2226-4cd6-bf09-91bce4b4db5e   24       1         153752   \n",
       "\n",
       "   Spending_Score  \n",
       "0              89  \n",
       "1              95  \n",
       "2              76  \n",
       "3              57  \n",
       "4              76  "
      ]
     },
     "execution_count": 16,
     "metadata": {},
     "output_type": "execute_result"
    }
   ],
   "source": [
    "df.head()"
   ]
  },
  {
   "cell_type": "code",
   "execution_count": null,
   "id": "413bd25b-2627-4b17-a9ae-937e15d9d2c7",
   "metadata": {},
   "outputs": [],
   "source": []
  },
  {
   "cell_type": "code",
   "execution_count": 17,
   "id": "875b5c95-6e8a-4f85-af97-63fe6cb925f5",
   "metadata": {},
   "outputs": [],
   "source": [
    "## checking the skewness value"
   ]
  },
  {
   "cell_type": "code",
   "execution_count": 19,
   "id": "0be98cee-d7e6-4d89-b267-86dcea174ce4",
   "metadata": {},
   "outputs": [
    {
     "data": {
      "text/plain": [
       "Age              -0.005260\n",
       "Gender           -0.014724\n",
       "Annual_Income     0.006470\n",
       "Spending_Score   -0.001996\n",
       "dtype: float64"
      ]
     },
     "execution_count": 19,
     "metadata": {},
     "output_type": "execute_result"
    }
   ],
   "source": [
    "df.skew(numeric_only=True)"
   ]
  },
  {
   "cell_type": "code",
   "execution_count": 20,
   "id": "c130dcd5-ecf5-42f6-9c12-f9beece0fc0a",
   "metadata": {},
   "outputs": [],
   "source": [
    "### the values are near to \"0\" so they are normally distributed"
   ]
  },
  {
   "cell_type": "code",
   "execution_count": null,
   "id": "77f1878a-22a7-49b4-a284-c67553a02ef1",
   "metadata": {},
   "outputs": [],
   "source": []
  }
 ],
 "metadata": {
  "kernelspec": {
   "display_name": "Python 3 (ipykernel)",
   "language": "python",
   "name": "python3"
  },
  "language_info": {
   "codemirror_mode": {
    "name": "ipython",
    "version": 3
   },
   "file_extension": ".py",
   "mimetype": "text/x-python",
   "name": "python",
   "nbconvert_exporter": "python",
   "pygments_lexer": "ipython3",
   "version": "3.12.4"
  }
 },
 "nbformat": 4,
 "nbformat_minor": 5
}
